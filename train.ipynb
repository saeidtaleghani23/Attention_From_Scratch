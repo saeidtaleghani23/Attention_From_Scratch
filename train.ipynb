{
 "cells": [
  {
   "cell_type": "code",
   "execution_count": null,
   "metadata": {},
   "outputs": [],
   "source": [
    "from model.Attention_model import build_transformer_model\n",
    "import time\n",
    "import torch\n",
    "import os\n",
    "from sklearn.metrics import accuracy_score\n",
    "from util import load_dataset\n",
    "import numpy as np\n",
    "import wandb\n",
    "import yaml\n",
    "# Authenticate with your API key\n",
    "wandb.login(key=\"4dd27c7624f2ab82554553d3e872b47dcaa05780\")\n",
    "\n",
    "\n",
    "def run_epoch(model, optimizer, data_loader, loss_func, device, results, score_funcs, prefix=\"\", desc=None):   \n",
    "    \n",
    "    model = model.to(device)\n",
    "    running_loss = []\n",
    "    y_true = []\n",
    "    y_pred = []\n",
    "    start = time.time()\n",
    "    for inputs, labels in (data_loader):\n",
    "        # -- Move the batch to the device we are using.\n",
    "        inputs = moveTo(inputs, device)\n",
    "        labels = moveTo(labels, device)\n",
    "\n",
    "        if prefix == \"validation\" or prefix == \"test\":\n",
    "            inputs.requires_grad_(False)  # Ensure inputs don't track gradients\n",
    "            labels.requires_grad_(False)  # Ensure labels don't track gradients\n",
    "\n",
    "        # -- Output of the model\n",
    "        y_hat = model(inputs)\n",
    "\n",
    "        # -- Compute loss.\n",
    "        loss = loss_func(y_hat, labels)\n",
    "\n",
    "        # -- Training?\n",
    "        if model.training:\n",
    "            loss.backward()\n",
    "            optimizer.step()\n",
    "            optimizer.zero_grad(set_to_none=True)\n",
    "\n",
    "        # -- Now we are just grabbing some information we would like to have\n",
    "        running_loss.append(loss.item())\n",
    "\n",
    "        if len(score_funcs) > 0 and isinstance(labels, torch.Tensor):\n",
    "            # -- moving labels & predictions back to CPU for computing / storing predictions\n",
    "            labels = labels.detach().cpu().numpy()\n",
    "            y_hat = y_hat.detach().cpu().numpy()\n",
    "            # -- add to predictions so far\n",
    "            y_true.extend(labels.tolist())\n",
    "            y_pred.extend(y_hat.tolist())\n",
    "    # -- end of one training epoch\n",
    "    end = time.time()\n",
    "\n",
    "    y_pred = np.asarray(y_pred)\n",
    "    # We have a classification problem, convert to labels\n",
    "    if len(y_pred.shape) == 2 and y_pred.shape[1] > 1:\n",
    "        y_pred = np.argmax(y_pred, axis=1)\n",
    "    # Else, we assume we are working on a regression problem\n",
    "\n",
    "    results[prefix + \" loss\"].append(np.mean(running_loss))\n",
    "    for name, score_func in score_funcs.items():\n",
    "        try:\n",
    "            results[prefix + \" \" + name].append(score_func(y_true, y_pred))\n",
    "        except:\n",
    "            results[prefix + \" \" + name].append(float(\"NaN\"))\n",
    "    return end-start  # time spent on epoch\n",
    "\n",
    "\n",
    "def train_model(epoches,\n",
    "                model,\n",
    "                optimizer,\n",
    "                train_loader,\n",
    "                loss_func,\n",
    "                score_funcs,\n",
    "                result_path,\n",
    "                patch_size,\n",
    "                validation_loader=None,\n",
    "                test_loader=None):\n",
    "\n",
    "    device = torch.device(\"cuda:0\" if torch.cuda.is_available() else \"cpu\")\n",
    "\n",
    "    # -- Create Result file\n",
    "    if os.path.exists(result_path) is not True:\n",
    "        os.mkdir(result_path)\n",
    "\n",
    "    # -- save all results\n",
    "    checkpoint_file_results = os.path.join(\n",
    "        result_path, ('All_results_'+str(patch_size) + '_patchsize.pt'))\n",
    "    # -- save the best result based on validation accuracy\n",
    "    checkpoint_file_best_result = os.path.join(\n",
    "        result_path, ('BestResult_' + str(patch_size) + '_patchsize.pt'))\n",
    "\n",
    "    # -- send model on the device\n",
    "    model = model.to(device)\n",
    "    to_track = [\"epoch\", \"total time\", \"train Accuracy\", \"train loss\"]\n",
    "\n",
    "    # -- There is Validation loader?\n",
    "    if validation_loader is not None:\n",
    "        to_track.append(\"validation Accuracy\")\n",
    "        to_track.append(\"validation loss\")\n",
    "\n",
    "    # -- There is test loader ?\n",
    "    if test_loader is not None:\n",
    "        to_track.append(\"test Accuracy\")\n",
    "        to_track.append(\"test loss\")\n",
    "\n",
    "    total_train_time = 0\n",
    "    results = {}\n",
    "\n",
    "    # -- Initialize every item with an empty list\n",
    "    for item in to_track:\n",
    "        results[item] = []\n",
    "\n",
    "    Best_validation_Accuracy = 0.0\n",
    "\n",
    "    # -- Train model\n",
    "    print('Training begins...\\n')\n",
    "\n",
    "    for epoch in range(epoches):\n",
    "        # -- set the model on train\n",
    "        model = model.train()\n",
    "        # -- Train for one epoch\n",
    "        total_train_time += run_epoch(model, optimizer, train_loader,\n",
    "                                      loss_func, device, results,\n",
    "                                      score_funcs, prefix=\"train\", desc=\"Training\")\n",
    "\n",
    "        # -- Save epoch and processing time\n",
    "        results[\"epoch\"].append(epoch)\n",
    "        results[\"total time\"].append(total_train_time)\n",
    "\n",
    "        #   ******  Validating  ******\n",
    "        if validation_loader is not None:\n",
    "            model = model.eval()  # Set the model to \"evaluation\" mode\n",
    "            with torch.no_grad():\n",
    "                run_epoch(model, optimizer, validation_loader,\n",
    "                          loss_func, device, results,\n",
    "                          score_funcs, prefix=\"validation\", desc=\"Validating\")\n",
    "\n",
    "        #   ******  Testing  ******\n",
    "        if test_loader is not None:\n",
    "            model = model.eval()\n",
    "            with torch.no_grad():\n",
    "                run_epoch(model, optimizer, test_loader,\n",
    "                          loss_func, device, results,\n",
    "                          score_funcs, prefix=\"test\", desc=\"Testing\")\n",
    "\n",
    "        #   ******  Save results of each epoch  ******\n",
    "        torch.save({\n",
    "            'epoch': epoch,\n",
    "            'model_state_dict': model.state_dict(),\n",
    "            'optimizer_state_dict': optimizer.state_dict(),\n",
    "            'results': results\n",
    "        }, checkpoint_file_results)\n",
    "        # show the progress and metrics\n",
    "        print('\\nEpoch: {}   Training accuracy: {:.2f}   Validation accuracy: {:.2f}   Test Accuracy: {:.2f}'\n",
    "              .format(epoch, results['train Accuracy'][-1]*100, results['validation Accuracy'][-1]*100, results['test Accuracy'][-1]*100))\n",
    "        # save the model based on the validation accuracy\n",
    "        if results['validation Accuracy'][-1] > Best_validation_Accuracy:\n",
    "            print('\\nEpoch: {}   Training accuracy: {:.2f}   best Val accuracy: {:.2f}   Test Accuracy: {:.2f}'\n",
    "                  .format(epoch, results['train Accuracy'][-1]*100, results['validation Accuracy'][-1]*100, results['test Accuracy'][-1]*100))\n",
    "            Best_validation_Accuracy = results['validation Accuracy'][-1]\n",
    "            best_result = {}\n",
    "            best_result[\"epoch\"] = []\n",
    "            best_result[\"train accuracy\"] = []\n",
    "            best_result[\"validation accuracy\"] = []\n",
    "            best_result[\"test accuracy\"] = []\n",
    "\n",
    "            best_result[\"epoch\"].append(epoch)\n",
    "            best_result[\"train accuracy\"].append(results['train Accuracy'][-1])\n",
    "            best_result[\"validation accuracy\"].append(\n",
    "                results['validation Accuracy'][-1])\n",
    "            best_result[\"test accuracy\"].append(results['test Accuracy'][-1])\n",
    "\n",
    "            torch.save({\n",
    "                'epoch': epoch,\n",
    "                'model_state_dict': model.state_dict(),\n",
    "                'optimizer_state_dict': optimizer.state_dict(),\n",
    "                'results': best_result\n",
    "            }, checkpoint_file_best_result)"
   ]
  },
  {
   "cell_type": "code",
   "execution_count": null,
   "metadata": {},
   "outputs": [],
   "source": [
    "from util import get_dataset\n",
    "\n",
    "current_location = os.getcwd()\n",
    "with open (current_location+'/config/config.yml', 'r') as file:\n",
    "        config = yaml.safe_load(file)\n",
    "\n",
    "# Initialize W&B\n",
    "wandb.init(\n",
    "    project=\"translation\",  # Name of your project\n",
    "    config={\n",
    "        \"learning_rate\": config['TRAIN']['lr'],\n",
    "        \"batch_size\": config['TRAIN']['batch_size'],\n",
    "        \"epochs\": config['TRAIN']['epochs'],\n",
    "        \"model\": 'english_to_french',\n",
    "    })\n",
    "\n",
    "Result_Directory = os.path.join(config['BENCHMARK']['results_path'], config['BENCHMARK']['model_name'])  \n",
    "os.makedirs(Result_Directory, exist_ok=True)\n",
    "\n",
    "score_funcs = {\"Accuracy\": accuracy_score}\n",
    "# getting the dataloaders\n",
    "train_dataloader, val_dataloader, test_dataloader, source_tokenizer, target_tokenizer =  get_dataset(config)\n"
   ]
  },
  {
   "cell_type": "code",
   "execution_count": 4,
   "metadata": {},
   "outputs": [],
   "source": [
    "# get model\n",
    "from model.Attention_model import build_transformer_model\n",
    "model = build_transformer_model(config)\n",
    "# define optimizer\n",
    "optimizer = torch.optim.Adam(model.parameters(), lr = config['TRAIN']['lr'], eps = 1e-9)"
   ]
  },
  {
   "cell_type": "code",
   "execution_count": null,
   "metadata": {},
   "outputs": [],
   "source": [
    "from datasets import load_dataset\n",
    "dataset = load_dataset('opus_books', 'en-fr', split='train')"
   ]
  },
  {
   "cell_type": "code",
   "execution_count": null,
   "metadata": {},
   "outputs": [],
   "source": [
    "dataset"
   ]
  },
  {
   "cell_type": "code",
   "execution_count": null,
   "metadata": {},
   "outputs": [],
   "source": [
    "dataset[0]"
   ]
  },
  {
   "cell_type": "code",
   "execution_count": null,
   "metadata": {},
   "outputs": [],
   "source": [
    "dataset[0]['translation']['en']"
   ]
  },
  {
   "cell_type": "code",
   "execution_count": null,
   "metadata": {},
   "outputs": [],
   "source": [
    "dataset[0]['translation']['fr']"
   ]
  },
  {
   "cell_type": "code",
   "execution_count": 1,
   "metadata": {},
   "outputs": [],
   "source": [
    "import torch"
   ]
  },
  {
   "cell_type": "code",
   "execution_count": 2,
   "metadata": {},
   "outputs": [
    {
     "name": "stderr",
     "output_type": "stream",
     "text": [
      "/tmp/ipykernel_347033/3730158998.py:3: FutureWarning: You are using `torch.load` with `weights_only=False` (the current default value), which uses the default pickle module implicitly. It is possible to construct malicious pickle data which will execute arbitrary code during unpickling (See https://github.com/pytorch/pytorch/blob/main/SECURITY.md#untrusted-models for more details). In a future release, the default value for `weights_only` will be flipped to `True`. This limits the functions that could be executed during unpickling. Arbitrary objects will no longer be allowed to be loaded via this mode unless they are explicitly allowlisted by the user via `torch.serialization.add_safe_globals`. We recommend you start setting `weights_only=True` for any use case where you don't have full control of the loaded file. Please open an issue on GitHub for any issues related to this experimental feature.\n",
      "  checkpoint = torch.load(file_path)\n",
      "/opt/conda/v3/envs/transformer_env/lib/python3.8/site-packages/tqdm/auto.py:21: TqdmWarning: IProgress not found. Please update jupyter and ipywidgets. See https://ipywidgets.readthedocs.io/en/stable/user_install.html\n",
      "  from .autonotebook import tqdm as notebook_tqdm\n"
     ]
    }
   ],
   "source": [
    "from torch.utils.data import DataLoader # type: ignore\n",
    "file_path='./dataloaders/test_dataloader.pth'\n",
    "checkpoint = torch.load(file_path)\n",
    "# Extract the test_dataset\n",
    "test_dataset = checkpoint['test_dataset']\n",
    "# Recreate the test DataLoader with batch_size = 1 and shuffle = False\n",
    "test_dataloader = DataLoader(test_dataset, batch_size=1, shuffle=False)"
   ]
  },
  {
   "cell_type": "code",
   "execution_count": 3,
   "metadata": {},
   "outputs": [
    {
     "data": {
      "text/plain": [
       "12709"
      ]
     },
     "execution_count": 3,
     "metadata": {},
     "output_type": "execute_result"
    }
   ],
   "source": [
    "len(test_dataloader)"
   ]
  },
  {
   "cell_type": "code",
   "execution_count": 5,
   "metadata": {},
   "outputs": [
    {
     "data": {
      "text/plain": [
       "array([6384,  534, 7277])"
      ]
     },
     "execution_count": 5,
     "metadata": {},
     "output_type": "execute_result"
    }
   ],
   "source": [
    "import numpy as np\n",
    "random_samples_idx =np.random.randint(0,len(test_dataloader),3)\n",
    "random_samples_idx"
   ]
  },
  {
   "cell_type": "code",
   "execution_count": 8,
   "metadata": {},
   "outputs": [
    {
     "data": {
      "text/plain": [
       "'/media/saeid/Crucial/ML_Projects/GitHub_Projects/Attention_From_Scratch'"
      ]
     },
     "execution_count": 8,
     "metadata": {},
     "output_type": "execute_result"
    }
   ],
   "source": [
    "import os\n",
    "os.getcwd()"
   ]
  },
  {
   "cell_type": "code",
   "execution_count": null,
   "metadata": {},
   "outputs": [],
   "source": []
  }
 ],
 "metadata": {
  "kernelspec": {
   "display_name": "transformer_env",
   "language": "python",
   "name": "python3"
  },
  "language_info": {
   "codemirror_mode": {
    "name": "ipython",
    "version": 3
   },
   "file_extension": ".py",
   "mimetype": "text/x-python",
   "name": "python",
   "nbconvert_exporter": "python",
   "pygments_lexer": "ipython3",
   "version": "3.8.20"
  }
 },
 "nbformat": 4,
 "nbformat_minor": 2
}
